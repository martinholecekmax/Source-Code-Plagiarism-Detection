{
 "cells": [
  {
   "cell_type": "markdown",
   "metadata": {
    "colab_type": "text",
    "id": "foamUXrpeJZ0"
   },
   "source": [
    "## Setup google drive"
   ]
  },
  {
   "cell_type": "code",
   "execution_count": 0,
   "metadata": {
    "cellView": "both",
    "colab": {
     "base_uri": "https://localhost:8080/",
     "height": 228
    },
    "colab_type": "code",
    "id": "bA-CFf0Rbuta",
    "outputId": "3aa99717-5693-4090-fad7-84fdb1b11a34"
   },
   "outputs": [
    {
     "name": "stdout",
     "output_type": "stream",
     "text": [
      "E: Package 'python-software-properties' has no installation candidate\n",
      "Selecting previously unselected package google-drive-ocamlfuse.\n",
      "(Reading database ... 131304 files and directories currently installed.)\n",
      "Preparing to unpack .../google-drive-ocamlfuse_0.7.3-0ubuntu3~ubuntu18.04.1_amd64.deb ...\n",
      "Unpacking google-drive-ocamlfuse (0.7.3-0ubuntu3~ubuntu18.04.1) ...\n",
      "Setting up google-drive-ocamlfuse (0.7.3-0ubuntu3~ubuntu18.04.1) ...\n",
      "Processing triggers for man-db (2.8.3-2ubuntu0.1) ...\n",
      "Please, open the following URL in a web browser: https://accounts.google.com/o/oauth2/auth?client_id=32555940559.apps.googleusercontent.com&redirect_uri=urn%3Aietf%3Awg%3Aoauth%3A2.0%3Aoob&scope=https%3A%2F%2Fwww.googleapis.com%2Fauth%2Fdrive&response_type=code&access_type=offline&approval_prompt=force\n",
      "··········\n",
      "Please, open the following URL in a web browser: https://accounts.google.com/o/oauth2/auth?client_id=32555940559.apps.googleusercontent.com&redirect_uri=urn%3Aietf%3Awg%3Aoauth%3A2.0%3Aoob&scope=https%3A%2F%2Fwww.googleapis.com%2Fauth%2Fdrive&response_type=code&access_type=offline&approval_prompt=force\n",
      "Please enter the verification code: Access token retrieved correctly.\n"
     ]
    }
   ],
   "source": [
    "#  run this cell only once\n",
    "!apt-get install -y -qq software-properties-common python-software-properties module-init-tools\n",
    "!add-apt-repository -y ppa:alessandro-strada/ppa 2>&1 > /dev/null\n",
    "!apt-get update -qq 2>&1 > /dev/null\n",
    "!apt-get -y install -qq google-drive-ocamlfuse fuse\n",
    "from google.colab import auth\n",
    "auth.authenticate_user()\n",
    "from oauth2client.client import GoogleCredentials\n",
    "creds = GoogleCredentials.get_application_default()\n",
    "import getpass\n",
    "!google-drive-ocamlfuse -headless -id={creds.client_id} -secret={creds.client_secret} < /dev/null 2>&1 | grep URL\n",
    "vcode = getpass.getpass()\n",
    "!echo {vcode} | google-drive-ocamlfuse -headless -id={creds.client_id} -secret={creds.client_secret}"
   ]
  },
  {
   "cell_type": "code",
   "execution_count": 0,
   "metadata": {
    "colab": {},
    "colab_type": "code",
    "id": "LHzx-aIocgme"
   },
   "outputs": [],
   "source": [
    "#  run this cell only once\n",
    "!mkdir -p drive\n",
    "!google-drive-ocamlfuse drive"
   ]
  },
  {
   "cell_type": "code",
   "execution_count": 0,
   "metadata": {
    "colab": {},
    "colab_type": "code",
    "id": "JpIFGk0Ec62a"
   },
   "outputs": [],
   "source": [
    "# from google.colab import drive\n",
    "# drive.mount('/content/gdrive')"
   ]
  },
  {
   "cell_type": "markdown",
   "metadata": {
    "colab_type": "text",
    "id": "2oM-UssTeYO7"
   },
   "source": [
    "# Source code Similarity Detection"
   ]
  },
  {
   "cell_type": "code",
   "execution_count": 0,
   "metadata": {
    "colab": {
     "base_uri": "https://localhost:8080/",
     "height": 34
    },
    "colab_type": "code",
    "id": "4qS7vExrUqP7",
    "outputId": "9ebc8ff4-5e47-4f9e-e7fa-afc07f96149f"
   },
   "outputs": [
    {
     "name": "stderr",
     "output_type": "stream",
     "text": [
      "Using TensorFlow backend.\n"
     ]
    }
   ],
   "source": [
    "%matplotlib inline\n",
    "from sklearn.model_selection import train_test_split\n",
    "from sklearn import metrics\n",
    "from sklearn.metrics import classification_report\n",
    "\n",
    "from keras.layers import concatenate, merge\n",
    "from keras.preprocessing.text import Tokenizer\n",
    "from keras.preprocessing.sequence import pad_sequences\n",
    "from keras.layers import Input, Embedding, Activation, Flatten, Dense, LSTM\n",
    "from keras.layers import Conv1D, MaxPooling1D, Dropout, UpSampling1D, BatchNormalization\n",
    "from keras.models import Model, load_model\n",
    "from keras.utils import plot_model\n",
    "from keras.optimizers import RMSprop\n",
    "from keras.callbacks import TensorBoard, ModelCheckpoint, EarlyStopping, ReduceLROnPlateau, Callback\n",
    "from keras.utils.np_utils import to_categorical\n",
    "\n",
    "import os\n",
    "import io\n",
    "import numpy as np\n",
    "import pandas as pd\n",
    "import matplotlib.pyplot as plt\n",
    "import seaborn as sns # Plot statistical data such as Annotated heatmaps\n",
    "import math\n",
    "import time, datetime"
   ]
  },
  {
   "cell_type": "code",
   "execution_count": 0,
   "metadata": {
    "colab": {
     "base_uri": "https://localhost:8080/",
     "height": 34
    },
    "colab_type": "code",
    "id": "IZvdtDtnci2Q",
    "outputId": "17cfbf36-c0b8-4b2a-af1d-6dadee129be0"
   },
   "outputs": [
    {
     "name": "stdout",
     "output_type": "stream",
     "text": [
      "/content/drive/colab/CNN/2019-04-20T19:01:51.911870/\n"
     ]
    }
   ],
   "source": [
    "TENSORBOARD_LOGS_PATH = '/content/drive/colab/logs'\n",
    "CHECKPOINT_FOLDER_PATH = '/content/drive/colab/checkpoints/weights.{epoch:02d}-{val_loss:.2f}.hdf5'\n",
    "\n",
    "# MAIN_FOLDER = ('/content/drive/colab/LSTM/{}/').format(datetime.datetime.now().isoformat())\n",
    "MAIN_FOLDER = ('/content/drive/colab/CNN/{}/').format(datetime.datetime.now().isoformat())\n",
    "# MAIN_FOLDER = ('/content/drive/colab/TEST/{}/').format(datetime.datetime.now().isoformat())\n",
    "\n",
    "ENCODER_MODEL_PATH = '/content/drive/colab/models/encoder_model2.h5'\n",
    "ENCODER_MODEL_WEIGHTS_PATH = '/content/drive/colab/models/encoder_model_copy-weights2.h5'\n",
    "CHECK_POINT_PATH = 'weights.best.hdf5'\n",
    "\n",
    "# DATASET_PATH = \"/content/drive/colab/Datasets/dataset1.csv\"\n",
    "# DATASET_PATH = \"/content/drive/colab/Datasets/dataset2.csv\"\n",
    "DATASET_PATH = \"/content/drive/colab/Datasets/dataset3.csv\"\n",
    "\n",
    "optimizer = 'adam'\n",
    "loss = 'binary_crossentropy'\n",
    "activation = 'relu'\n",
    "batch_size = 64\n",
    "epochs = 50\n",
    "dropout = 0.2\n",
    "\n",
    "# os.mkdir(MAIN_FOLDER)\n",
    "print(MAIN_FOLDER)\n",
    "\n",
    "main_information = list()"
   ]
  },
  {
   "cell_type": "code",
   "execution_count": 0,
   "metadata": {
    "colab": {},
    "colab_type": "code",
    "id": "jjSLnv59QVZ2"
   },
   "outputs": [],
   "source": [
    "def save_information(information):\n",
    "  path = MAIN_FOLDER + 'main_info.txt'\n",
    "  with open(path, 'w') as fp:\n",
    "    fp.write(\"\\n\".join(information))\n",
    "  print(\"Saved into {}\".format(path))"
   ]
  },
  {
   "cell_type": "markdown",
   "metadata": {
    "colab_type": "text",
    "id": "NpwcsSoUrKKQ"
   },
   "source": [
    "# Loading Data"
   ]
  },
  {
   "cell_type": "code",
   "execution_count": 0,
   "metadata": {
    "colab": {
     "base_uri": "https://localhost:8080/",
     "height": 156
    },
    "colab_type": "code",
    "id": "rAz3uPicdrxG",
    "outputId": "ffc51d29-0aa8-47b9-a5ea-47c45c032e27"
   },
   "outputs": [
    {
     "name": "stdout",
     "output_type": "stream",
     "text": [
      "<class 'pandas.core.frame.DataFrame'>\n",
      "RangeIndex: 10126 entries, 0 to 10125\n",
      "Data columns (total 3 columns):\n",
      "0    10126 non-null int64\n",
      "1    10126 non-null object\n",
      "2    10126 non-null object\n",
      "dtypes: int64(1), object(2)\n",
      "memory usage: 237.4+ KB\n"
     ]
    }
   ],
   "source": [
    "dataset_df = pd.read_csv(DATASET_PATH, header=None)\n",
    "main_information.append(DATASET_PATH)\n",
    "dataset_df.info()"
   ]
  },
  {
   "cell_type": "code",
   "execution_count": 0,
   "metadata": {
    "colab": {},
    "colab_type": "code",
    "id": "z5zrBWbikL5n"
   },
   "outputs": [],
   "source": [
    "# Store dataset info into main_info\n",
    "buf = io.StringIO()\n",
    "dataset_df.info(buf=buf)\n",
    "info = buf.getvalue()\n",
    "main_information.append(info)"
   ]
  },
  {
   "cell_type": "code",
   "execution_count": 0,
   "metadata": {
    "colab": {
     "base_uri": "https://localhost:8080/",
     "height": 156
    },
    "colab_type": "code",
    "id": "pLo-gvgysuBU",
    "outputId": "b388bf8b-9538-4848-8c41-71222dd65343"
   },
   "outputs": [
    {
     "name": "stdout",
     "output_type": "stream",
     "text": [
      "<class 'pandas.core.frame.DataFrame'>\n",
      "RangeIndex: 10126 entries, 0 to 10125\n",
      "Data columns (total 3 columns):\n",
      "0    10126 non-null int64\n",
      "1    10126 non-null object\n",
      "2    10126 non-null object\n",
      "dtypes: int64(1), object(2)\n",
      "memory usage: 237.4+ KB\n"
     ]
    }
   ],
   "source": [
    "dataset_df = dataset_df.sample(frac=1).reset_index(drop=True)\n",
    "# dataset_df.head()\n",
    "dataset_df.info()"
   ]
  },
  {
   "cell_type": "code",
   "execution_count": 0,
   "metadata": {
    "colab": {
     "base_uri": "https://localhost:8080/",
     "height": 69
    },
    "colab_type": "code",
    "id": "oBYJlt7x6G0_",
    "outputId": "1e5cf383-890f-41dd-8992-39222f4dfc0a"
   },
   "outputs": [
    {
     "name": "stdout",
     "output_type": "stream",
     "text": [
      "1    7092\n",
      "0    6903\n",
      "Name: 0, dtype: int64\n"
     ]
    }
   ],
   "source": [
    "print(dataset_df[0].value_counts())\n",
    "y = dataset_df[0]"
   ]
  },
  {
   "cell_type": "code",
   "execution_count": 0,
   "metadata": {
    "colab": {},
    "colab_type": "code",
    "id": "sNM9r1fdrY4Q"
   },
   "outputs": [],
   "source": [
    "# Split dataset into train, test, labels\n",
    "train_left, test_left, train_right, test_right = train_test_split(dataset_df[1].values, dataset_df[2].values, test_size=0.2, shuffle=False)\n",
    "train_labels, test_labels = train_test_split(y, test_size=0.2, shuffle=False)\n",
    "# train_labels, test_labels = train_test_split(dataset_df[0].values, test_size=0.2, shuffle=False)\n",
    "\n",
    "# Copy of original labels which allows us to see wrong predictions\n",
    "test_left_original, test_right_original = test_left, test_right"
   ]
  },
  {
   "cell_type": "code",
   "execution_count": 0,
   "metadata": {
    "colab": {
     "base_uri": "https://localhost:8080/",
     "height": 104
    },
    "colab_type": "code",
    "id": "r9p4uyi6ujXY",
    "outputId": "b3b9cc75-3ad2-48a7-ce2f-8c28822b04e8"
   },
   "outputs": [
    {
     "name": "stdout",
     "output_type": "stream",
     "text": [
      "Train set: 6480\n",
      " Valid set: 1620\n",
      " Test set: 2026\n",
      " Total: 10126\n",
      "\n"
     ]
    }
   ],
   "source": [
    "train, valid = train_test_split(train_left, test_size=0.2)\n",
    "trs = \"Train set: {}\\n\".format(len(train))\n",
    "vas = \"Valid set: {}\\n\".format(len(valid))\n",
    "tes = \"Test set: {}\\n\".format(len(test_left))\n",
    "tot = \"Total: {}\\n\".format(len(train) + len(valid) + len(test_left))\n",
    "print(trs, vas, tes, tot)\n",
    "main_information.append(trs + vas + tes + tot)"
   ]
  },
  {
   "cell_type": "code",
   "execution_count": 0,
   "metadata": {
    "colab": {
     "base_uri": "https://localhost:8080/",
     "height": 34
    },
    "colab_type": "code",
    "id": "v1YJz1pGu6Zq",
    "outputId": "aaf73572-0a97-48b3-d7a5-e3615f06d5cd"
   },
   "outputs": [
    {
     "name": "stdout",
     "output_type": "stream",
     "text": [
      "8100\n"
     ]
    }
   ],
   "source": [
    "# print(len(test_left))\n",
    "# print(len(test_right))\n",
    "# print(len(test_labels))\n",
    "# print(len(train_left))\n",
    "# print(len(train_right))\n",
    "print(len(train_labels))\n",
    "# train_labels"
   ]
  },
  {
   "cell_type": "markdown",
   "metadata": {
    "colab_type": "text",
    "id": "XWXpEeDD6GjB"
   },
   "source": [
    "# Preprocessing"
   ]
  },
  {
   "cell_type": "code",
   "execution_count": 0,
   "metadata": {
    "colab": {},
    "colab_type": "code",
    "id": "i1M4SYdw7aOZ"
   },
   "outputs": [],
   "source": [
    "# Create tokenizer\n",
    "tk = Tokenizer(num_words=None, char_level=True, oov_token='UNK')"
   ]
  },
  {
   "cell_type": "code",
   "execution_count": 0,
   "metadata": {
    "colab": {},
    "colab_type": "code",
    "id": "ksh9GoJ37t0o"
   },
   "outputs": [],
   "source": [
    "def get_alphabet():\n",
    "    ''' Create alphabet from ASCII character '''\n",
    "    char_dict = {}\n",
    "    for num in range(127):\n",
    "        char_dict[chr(num)] = num + 1\n",
    "    return char_dict"
   ]
  },
  {
   "cell_type": "code",
   "execution_count": 0,
   "metadata": {
    "colab": {
     "base_uri": "https://localhost:8080/"
    },
    "colab_type": "code",
    "id": "Vy_AAn3b7uCY",
    "outputId": "7c472351-7c21-46ca-bbfc-a917381f50fe"
   },
   "outputs": [
    {
     "name": "stdout",
     "output_type": "stream",
     "text": [
      "{'\\x00': 1, '\\x01': 2, '\\x02': 3, '\\x03': 4, '\\x04': 5, '\\x05': 6, '\\x06': 7, '\\x07': 8, '\\x08': 9, '\\t': 10, '\\n': 11, '\\x0b': 12, '\\x0c': 13, '\\r': 14, '\\x0e': 15, '\\x0f': 16, '\\x10': 17, '\\x11': 18, '\\x12': 19, '\\x13': 20, '\\x14': 21, '\\x15': 22, '\\x16': 23, '\\x17': 24, '\\x18': 25, '\\x19': 26, '\\x1a': 27, '\\x1b': 28, '\\x1c': 29, '\\x1d': 30, '\\x1e': 31, '\\x1f': 32, ' ': 33, '!': 34, '\"': 35, '#': 36, '$': 37, '%': 38, '&': 39, \"'\": 40, '(': 41, ')': 42, '*': 43, '+': 44, ',': 45, '-': 46, '.': 47, '/': 48, '0': 49, '1': 50, '2': 51, '3': 52, '4': 53, '5': 54, '6': 55, '7': 56, '8': 57, '9': 58, ':': 59, ';': 60, '<': 61, '=': 62, '>': 63, '?': 64, '@': 65, 'A': 66, 'B': 67, 'C': 68, 'D': 69, 'E': 70, 'F': 71, 'G': 72, 'H': 73, 'I': 74, 'J': 75, 'K': 76, 'L': 77, 'M': 78, 'N': 79, 'O': 80, 'P': 81, 'Q': 82, 'R': 83, 'S': 84, 'T': 85, 'U': 86, 'V': 87, 'W': 88, 'X': 89, 'Y': 90, 'Z': 91, '[': 92, '\\\\': 93, ']': 94, '^': 95, '_': 96, '`': 97, 'a': 98, 'b': 99, 'c': 100, 'd': 101, 'e': 102, 'f': 103, 'g': 104, 'h': 105, 'i': 106, 'j': 107, 'k': 108, 'l': 109, 'm': 110, 'n': 111, 'o': 112, 'p': 113, 'q': 114, 'r': 115, 's': 116, 't': 117, 'u': 118, 'v': 119, 'w': 120, 'x': 121, 'y': 122, 'z': 123, '{': 124, '|': 125, '}': 126, '~': 127}\n"
     ]
    }
   ],
   "source": [
    "# Create Alphabet Vocabulary (Dictonary)\n",
    "char_dict = get_alphabet()\n",
    "print(char_dict)"
   ]
  },
  {
   "cell_type": "code",
   "execution_count": 0,
   "metadata": {
    "colab": {
     "base_uri": "https://localhost:8080/"
    },
    "colab_type": "code",
    "id": "ckqPHvD17uNJ",
    "outputId": "d4c83fa5-278a-48e0-bc0d-bfefa1f8d7d6"
   },
   "outputs": [
    {
     "name": "stdout",
     "output_type": "stream",
     "text": [
      "{'\\x00': 1, '\\x01': 2, '\\x02': 3, '\\x03': 4, '\\x04': 5, '\\x05': 6, '\\x06': 7, '\\x07': 8, '\\x08': 9, '\\t': 10, '\\n': 11, '\\x0b': 12, '\\x0c': 13, '\\r': 14, '\\x0e': 15, '\\x0f': 16, '\\x10': 17, '\\x11': 18, '\\x12': 19, '\\x13': 20, '\\x14': 21, '\\x15': 22, '\\x16': 23, '\\x17': 24, '\\x18': 25, '\\x19': 26, '\\x1a': 27, '\\x1b': 28, '\\x1c': 29, '\\x1d': 30, '\\x1e': 31, '\\x1f': 32, ' ': 33, '!': 34, '\"': 35, '#': 36, '$': 37, '%': 38, '&': 39, \"'\": 40, '(': 41, ')': 42, '*': 43, '+': 44, ',': 45, '-': 46, '.': 47, '/': 48, '0': 49, '1': 50, '2': 51, '3': 52, '4': 53, '5': 54, '6': 55, '7': 56, '8': 57, '9': 58, ':': 59, ';': 60, '<': 61, '=': 62, '>': 63, '?': 64, '@': 65, 'A': 66, 'B': 67, 'C': 68, 'D': 69, 'E': 70, 'F': 71, 'G': 72, 'H': 73, 'I': 74, 'J': 75, 'K': 76, 'L': 77, 'M': 78, 'N': 79, 'O': 80, 'P': 81, 'Q': 82, 'R': 83, 'S': 84, 'T': 85, 'U': 86, 'V': 87, 'W': 88, 'X': 89, 'Y': 90, 'Z': 91, '[': 92, '\\\\': 93, ']': 94, '^': 95, '_': 96, '`': 97, 'a': 98, 'b': 99, 'c': 100, 'd': 101, 'e': 102, 'f': 103, 'g': 104, 'h': 105, 'i': 106, 'j': 107, 'k': 108, 'l': 109, 'm': 110, 'n': 111, 'o': 112, 'p': 113, 'q': 114, 'r': 115, 's': 116, 't': 117, 'u': 118, 'v': 119, 'w': 120, 'x': 121, 'y': 122, 'z': 123, '{': 124, '|': 125, '}': 126, '~': 127, 'UNK': 128}\n"
     ]
    }
   ],
   "source": [
    "# Create vocabulary and Add it into the tokenizer\n",
    "tk.word_index = char_dict.copy()\n",
    "tk.word_index[tk.oov_token] = max(char_dict.values()) + 1\n",
    "print(tk.word_index)"
   ]
  },
  {
   "cell_type": "code",
   "execution_count": 0,
   "metadata": {
    "colab": {
     "base_uri": "https://localhost:8080/"
    },
    "colab_type": "code",
    "id": "WuCIBWfC7yxe",
    "outputId": "507259eb-846f-4267-a603-90f469674193"
   },
   "outputs": [
    {
     "name": "stdout",
     "output_type": "stream",
     "text": [
      "128\n"
     ]
    }
   ],
   "source": [
    "vocab_size = len(tk.word_index)\n",
    "print(vocab_size)"
   ]
  },
  {
   "cell_type": "code",
   "execution_count": 0,
   "metadata": {
    "colab": {},
    "colab_type": "code",
    "id": "v1L8OdqF4V1w"
   },
   "outputs": [],
   "source": [
    "# Convert string to index \n",
    "train_sequences_left = tk.texts_to_sequences(train_left)\n",
    "test_sequences_left = tk.texts_to_sequences(test_left)\n",
    "\n",
    "# Padding\n",
    "train_left = pad_sequences(train_sequences_left, maxlen=200, padding='post', truncating='post')\n",
    "test_left = pad_sequences(test_sequences_left, maxlen=200, padding='post', truncating='post')\n",
    "\n",
    "# Convert to numpy array\n",
    "train_left = np.array(train_left, dtype='float32')\n",
    "test_left = np.array(test_left, dtype='float32')"
   ]
  },
  {
   "cell_type": "code",
   "execution_count": 0,
   "metadata": {
    "colab": {},
    "colab_type": "code",
    "id": "l2ayOU1M6L8i"
   },
   "outputs": [],
   "source": [
    "# Convert string to index \n",
    "train_sequences_right = tk.texts_to_sequences(train_right)\n",
    "test_sequences_right = tk.texts_to_sequences(test_right)\n",
    "\n",
    "# Padding\n",
    "train_right = pad_sequences(train_sequences_right, maxlen=200, padding='post', truncating='post')\n",
    "test_right = pad_sequences(test_sequences_right, maxlen=200, padding='post', truncating='post')\n",
    "\n",
    "# Convert to numpy array\n",
    "train_right = np.array(train_right, dtype='float32')\n",
    "test_right = np.array(test_right, dtype='float32')"
   ]
  },
  {
   "cell_type": "code",
   "execution_count": 0,
   "metadata": {
    "colab": {},
    "colab_type": "code",
    "id": "AJk_EZcg_SPW"
   },
   "outputs": [],
   "source": [
    "# train_labels = np.array(train_labels, dtype='int32')\n",
    "# test_labels = np.array(test_labels, dtype='int32')"
   ]
  },
  {
   "cell_type": "code",
   "execution_count": 0,
   "metadata": {
    "colab": {},
    "colab_type": "code",
    "id": "mJRqwsKCA2Ac"
   },
   "outputs": [],
   "source": [
    "# train_labels = to_categorical(train_labels, 2)\n",
    "# test_labels = to_categorical(test_labels, 2)\n",
    "# print(train_labels)\n",
    "# print(test_labels)\n",
    "# test_labels"
   ]
  },
  {
   "cell_type": "markdown",
   "metadata": {
    "colab_type": "text",
    "id": "T01bFUbt__Th"
   },
   "source": [
    "# Loading Encoder Models"
   ]
  },
  {
   "cell_type": "code",
   "execution_count": 0,
   "metadata": {
    "colab": {
     "base_uri": "https://localhost:8080/",
     "height": 124
    },
    "colab_type": "code",
    "id": "WQ6FjlZRcDUb",
    "outputId": "32008017-9be9-43dc-fab7-e34a851d33b5"
   },
   "outputs": [
    {
     "name": "stdout",
     "output_type": "stream",
     "text": [
      "WARNING:tensorflow:From /usr/local/lib/python3.6/dist-packages/tensorflow/python/framework/op_def_library.py:263: colocate_with (from tensorflow.python.framework.ops) is deprecated and will be removed in a future version.\n",
      "Instructions for updating:\n",
      "Colocations handled automatically by placer.\n"
     ]
    },
    {
     "name": "stderr",
     "output_type": "stream",
     "text": [
      "/usr/local/lib/python3.6/dist-packages/keras/engine/saving.py:292: UserWarning: No training configuration found in save file: the model was *not* compiled. Compile it manually.\n",
      "  warnings.warn('No training configuration found in save file: '\n"
     ]
    }
   ],
   "source": [
    "# Load encoder models from the file\n",
    "encoder_left_side = load_model(ENCODER_MODEL_PATH)\n",
    "encoder_right_side = load_model(ENCODER_MODEL_PATH)\n",
    "main_information.append(ENCODER_MODEL_PATH)"
   ]
  },
  {
   "cell_type": "code",
   "execution_count": 0,
   "metadata": {
    "colab": {},
    "colab_type": "code",
    "id": "M5KkVfGjXu8D"
   },
   "outputs": [],
   "source": [
    "# Change layers names and make them untrainable\n",
    "for i, layer in enumerate(encoder_left_side.layers):\n",
    "  layer.name = 'left_side_' + str(i)\n",
    "  layer.trainable = False\n",
    "  \n",
    "for i, layer in enumerate(encoder_right_side.layers):\n",
    "  layer.name = 'right_side_' + str(i)\n",
    "  layer.trainable = False"
   ]
  },
  {
   "cell_type": "code",
   "execution_count": 0,
   "metadata": {
    "colab": {},
    "colab_type": "code",
    "id": "UfDY9ImQcOX0"
   },
   "outputs": [],
   "source": [
    "# Compile encoder models\n",
    "encoder_left_side.compile(\n",
    "   optimizer=optimizer, \n",
    "   loss='mse', \n",
    "   metrics=['accuracy']\n",
    ")\n",
    "\n",
    "encoder_right_side.compile(\n",
    "   optimizer=optimizer, \n",
    "   loss='mse', \n",
    "   metrics=['accuracy']\n",
    ")"
   ]
  },
  {
   "cell_type": "code",
   "execution_count": 0,
   "metadata": {
    "colab": {},
    "colab_type": "code",
    "id": "sQqel0xVX7ht"
   },
   "outputs": [],
   "source": [
    "# Load weights\n",
    "encoder_left_side.load_weights(ENCODER_MODEL_WEIGHTS_PATH)\n",
    "encoder_right_side.load_weights(ENCODER_MODEL_WEIGHTS_PATH)"
   ]
  },
  {
   "cell_type": "code",
   "execution_count": 0,
   "metadata": {
    "colab": {
     "base_uri": "https://localhost:8080/",
     "height": 885
    },
    "colab_type": "code",
    "id": "Q0_vl-G8gp5R",
    "outputId": "517d94b1-79e5-4ed3-ad7f-80d032b79143"
   },
   "outputs": [
    {
     "name": "stdout",
     "output_type": "stream",
     "text": [
      "_________________________________________________________________\n",
      "Layer (type)                 Output Shape              Param #   \n",
      "=================================================================\n",
      "left_side_0 (InputLayer)     (None, 200)               0         \n",
      "_________________________________________________________________\n",
      "left_side_1 (Embedding)      (None, 200, 128)          16512     \n",
      "_________________________________________________________________\n",
      "left_side_2 (Conv1D)         (None, 200, 128)          82048     \n",
      "_________________________________________________________________\n",
      "left_side_3 (MaxPooling1D)   (None, 40, 128)           0         \n",
      "_________________________________________________________________\n",
      "left_side_4 (BatchNormalizat (None, 40, 128)           512       \n",
      "_________________________________________________________________\n",
      "left_side_5 (Conv1D)         (None, 40, 128)           82048     \n",
      "_________________________________________________________________\n",
      "left_side_6 (MaxPooling1D)   (None, 10, 128)           0         \n",
      "_________________________________________________________________\n",
      "left_side_7 (BatchNormalizat (None, 10, 128)           512       \n",
      "_________________________________________________________________\n",
      "left_side_8 (Conv1D)         (None, 10, 128)           82048     \n",
      "=================================================================\n",
      "Total params: 263,680\n",
      "Trainable params: 0\n",
      "Non-trainable params: 263,680\n",
      "_________________________________________________________________\n",
      "_________________________________________________________________\n",
      "Layer (type)                 Output Shape              Param #   \n",
      "=================================================================\n",
      "right_side_0 (InputLayer)    (None, 200)               0         \n",
      "_________________________________________________________________\n",
      "right_side_1 (Embedding)     (None, 200, 128)          16512     \n",
      "_________________________________________________________________\n",
      "right_side_2 (Conv1D)        (None, 200, 128)          82048     \n",
      "_________________________________________________________________\n",
      "right_side_3 (MaxPooling1D)  (None, 40, 128)           0         \n",
      "_________________________________________________________________\n",
      "right_side_4 (BatchNormaliza (None, 40, 128)           512       \n",
      "_________________________________________________________________\n",
      "right_side_5 (Conv1D)        (None, 40, 128)           82048     \n",
      "_________________________________________________________________\n",
      "right_side_6 (MaxPooling1D)  (None, 10, 128)           0         \n",
      "_________________________________________________________________\n",
      "right_side_7 (BatchNormaliza (None, 10, 128)           512       \n",
      "_________________________________________________________________\n",
      "right_side_8 (Conv1D)        (None, 10, 128)           82048     \n",
      "=================================================================\n",
      "Total params: 263,680\n",
      "Trainable params: 0\n",
      "Non-trainable params: 263,680\n",
      "_________________________________________________________________\n"
     ]
    }
   ],
   "source": [
    "encoder_left_side.summary()\n",
    "encoder_right_side.summary()"
   ]
  },
  {
   "cell_type": "markdown",
   "metadata": {
    "colab_type": "text",
    "id": "vLHyh9t_AHUt"
   },
   "source": [
    "# Build Model"
   ]
  },
  {
   "cell_type": "code",
   "execution_count": 0,
   "metadata": {
    "colab": {},
    "colab_type": "code",
    "id": "wjKdGbs7cUkJ"
   },
   "outputs": [],
   "source": [
    "# Concatenate encoders together\n",
    "x = concatenate([encoder_left_side.output, encoder_right_side.output], axis=1)\n",
    "# x = concatenate([encoder_left_side.output, encoder_right_side.output]) # Wrong axis = concatenates second dim"
   ]
  },
  {
   "cell_type": "code",
   "execution_count": 0,
   "metadata": {
    "colab": {
     "base_uri": "https://localhost:8080/",
     "height": 34
    },
    "colab_type": "code",
    "id": "5TfVqi_V3wlL",
    "outputId": "49b2cb03-d3d5-4eaf-cffa-d1455f03d0c6"
   },
   "outputs": [
    {
     "data": {
      "text/plain": [
       "TensorShape([Dimension(None), Dimension(20), Dimension(128)])"
      ]
     },
     "execution_count": 29,
     "metadata": {
      "tags": []
     },
     "output_type": "execute_result"
    }
   ],
   "source": [
    "# left.get_shape()\n",
    "x.get_shape()"
   ]
  },
  {
   "cell_type": "code",
   "execution_count": 0,
   "metadata": {
    "colab": {
     "base_uri": "https://localhost:8080/",
     "height": 89
    },
    "colab_type": "code",
    "id": "IHfw9guHpBJr",
    "outputId": "856d7620-1aee-42d1-83e6-251b81ca6ce6"
   },
   "outputs": [
    {
     "name": "stdout",
     "output_type": "stream",
     "text": [
      "WARNING:tensorflow:From /usr/local/lib/python3.6/dist-packages/keras/backend/tensorflow_backend.py:3445: calling dropout (from tensorflow.python.ops.nn_ops) with keep_prob is deprecated and will be removed in a future version.\n",
      "Instructions for updating:\n",
      "Please use `rate` instead of `keep_prob`. Rate should be set to `rate = 1 - keep_prob`.\n"
     ]
    }
   ],
   "source": [
    "# Conv1D(filters, kernel_size, ...)\n",
    "x = Conv1D(128, 5, activation=activation, padding='same')(x)\n",
    "x = BatchNormalization()(x)\n",
    "x = Dropout(dropout)(x)\n",
    "x = MaxPooling1D(pool_size=2, padding='same')(x)\n",
    "x = Conv1D(128, 5, activation=activation, padding='same')(x)\n",
    "x = BatchNormalization()(x)\n",
    "x = Dropout(dropout)(x)\n",
    "x = MaxPooling1D(pool_size=2, padding='same')(x)\n",
    "x = Conv1D(128, 5, activation=activation, padding='same')(x)\n",
    "x = BatchNormalization()(x)\n",
    "x = Dropout(dropout)(x)\n",
    "x = MaxPooling1D(pool_size=2, padding='same')(x)\n",
    "x = Flatten()(x)"
   ]
  },
  {
   "cell_type": "code",
   "execution_count": 0,
   "metadata": {
    "colab": {
     "base_uri": "https://localhost:8080/",
     "height": 1302
    },
    "colab_type": "code",
    "id": "AuRi8gf-dQ-T",
    "outputId": "10146793-f5cd-4405-d63b-2e7acca9b8d0"
   },
   "outputs": [
    {
     "name": "stdout",
     "output_type": "stream",
     "text": [
      "__________________________________________________________________________________________________\n",
      "Layer (type)                    Output Shape         Param #     Connected to                     \n",
      "==================================================================================================\n",
      "left_side_0 (InputLayer)        (None, 200)          0                                            \n",
      "__________________________________________________________________________________________________\n",
      "right_side_0 (InputLayer)       (None, 200)          0                                            \n",
      "__________________________________________________________________________________________________\n",
      "left_side_1 (Embedding)         (None, 200, 128)     16512       left_side_0[0][0]                \n",
      "__________________________________________________________________________________________________\n",
      "right_side_1 (Embedding)        (None, 200, 128)     16512       right_side_0[0][0]               \n",
      "__________________________________________________________________________________________________\n",
      "left_side_2 (Conv1D)            (None, 200, 128)     82048       left_side_1[0][0]                \n",
      "__________________________________________________________________________________________________\n",
      "right_side_2 (Conv1D)           (None, 200, 128)     82048       right_side_1[0][0]               \n",
      "__________________________________________________________________________________________________\n",
      "left_side_3 (MaxPooling1D)      (None, 40, 128)      0           left_side_2[0][0]                \n",
      "__________________________________________________________________________________________________\n",
      "right_side_3 (MaxPooling1D)     (None, 40, 128)      0           right_side_2[0][0]               \n",
      "__________________________________________________________________________________________________\n",
      "left_side_4 (BatchNormalization (None, 40, 128)      512         left_side_3[0][0]                \n",
      "__________________________________________________________________________________________________\n",
      "right_side_4 (BatchNormalizatio (None, 40, 128)      512         right_side_3[0][0]               \n",
      "__________________________________________________________________________________________________\n",
      "left_side_5 (Conv1D)            (None, 40, 128)      82048       left_side_4[0][0]                \n",
      "__________________________________________________________________________________________________\n",
      "right_side_5 (Conv1D)           (None, 40, 128)      82048       right_side_4[0][0]               \n",
      "__________________________________________________________________________________________________\n",
      "left_side_6 (MaxPooling1D)      (None, 10, 128)      0           left_side_5[0][0]                \n",
      "__________________________________________________________________________________________________\n",
      "right_side_6 (MaxPooling1D)     (None, 10, 128)      0           right_side_5[0][0]               \n",
      "__________________________________________________________________________________________________\n",
      "left_side_7 (BatchNormalization (None, 10, 128)      512         left_side_6[0][0]                \n",
      "__________________________________________________________________________________________________\n",
      "right_side_7 (BatchNormalizatio (None, 10, 128)      512         right_side_6[0][0]               \n",
      "__________________________________________________________________________________________________\n",
      "left_side_8 (Conv1D)            (None, 10, 128)      82048       left_side_7[0][0]                \n",
      "__________________________________________________________________________________________________\n",
      "right_side_8 (Conv1D)           (None, 10, 128)      82048       right_side_7[0][0]               \n",
      "__________________________________________________________________________________________________\n",
      "concatenate_1 (Concatenate)     (None, 20, 128)      0           left_side_8[0][0]                \n",
      "                                                                 right_side_8[0][0]               \n",
      "__________________________________________________________________________________________________\n",
      "conv1d_1 (Conv1D)               (None, 20, 128)      82048       concatenate_1[0][0]              \n",
      "__________________________________________________________________________________________________\n",
      "batch_normalization_1 (BatchNor (None, 20, 128)      512         conv1d_1[0][0]                   \n",
      "__________________________________________________________________________________________________\n",
      "dropout_1 (Dropout)             (None, 20, 128)      0           batch_normalization_1[0][0]      \n",
      "__________________________________________________________________________________________________\n",
      "max_pooling1d_1 (MaxPooling1D)  (None, 10, 128)      0           dropout_1[0][0]                  \n",
      "__________________________________________________________________________________________________\n",
      "conv1d_2 (Conv1D)               (None, 10, 128)      82048       max_pooling1d_1[0][0]            \n",
      "__________________________________________________________________________________________________\n",
      "batch_normalization_2 (BatchNor (None, 10, 128)      512         conv1d_2[0][0]                   \n",
      "__________________________________________________________________________________________________\n",
      "dropout_2 (Dropout)             (None, 10, 128)      0           batch_normalization_2[0][0]      \n",
      "__________________________________________________________________________________________________\n",
      "max_pooling1d_2 (MaxPooling1D)  (None, 5, 128)       0           dropout_2[0][0]                  \n",
      "__________________________________________________________________________________________________\n",
      "conv1d_3 (Conv1D)               (None, 5, 128)       82048       max_pooling1d_2[0][0]            \n",
      "__________________________________________________________________________________________________\n",
      "batch_normalization_3 (BatchNor (None, 5, 128)       512         conv1d_3[0][0]                   \n",
      "__________________________________________________________________________________________________\n",
      "dropout_3 (Dropout)             (None, 5, 128)       0           batch_normalization_3[0][0]      \n",
      "__________________________________________________________________________________________________\n",
      "max_pooling1d_3 (MaxPooling1D)  (None, 3, 128)       0           dropout_3[0][0]                  \n",
      "__________________________________________________________________________________________________\n",
      "flatten_1 (Flatten)             (None, 384)          0           max_pooling1d_3[0][0]            \n",
      "__________________________________________________________________________________________________\n",
      "dense_1 (Dense)                 (None, 1)            385         flatten_1[0][0]                  \n",
      "==================================================================================================\n",
      "Total params: 775,425\n",
      "Trainable params: 247,297\n",
      "Non-trainable params: 528,128\n",
      "__________________________________________________________________________________________________\n"
     ]
    }
   ],
   "source": [
    "\n",
    "predictions = Dense(1, activation='sigmoid')(x)\n",
    "\n",
    "# Build and compile model\n",
    "sourcecode_model = Model(inputs=[encoder_left_side.input ,encoder_right_side.input], outputs=predictions)\n",
    "# opt = adam, loss = mse\n",
    "sourcecode_model.compile(loss=loss, optimizer = optimizer,\n",
    "              metrics=['accuracy'])\n",
    "\n",
    "sourcecode_model.summary()"
   ]
  },
  {
   "cell_type": "code",
   "execution_count": 0,
   "metadata": {
    "colab": {},
    "colab_type": "code",
    "id": "pZHGikEnrmWy"
   },
   "outputs": [],
   "source": [
    "# Store model summary\n",
    "summarylist = []\n",
    "sourcecode_model.summary(print_fn=lambda x: summarylist.append(x))\n",
    "short_model_summary = \"\\n\".join(summarylist)\n",
    "# print(short_model_summary)\n",
    "main_information.append(short_model_summary)"
   ]
  },
  {
   "cell_type": "code",
   "execution_count": 0,
   "metadata": {
    "colab": {},
    "colab_type": "code",
    "id": "PjlTEJatEWFO"
   },
   "outputs": [],
   "source": [
    "# Save model sturcture as an image to the file\n",
    "# plot_model(sourcecode_model, to_file='/content/drive/colab/imgs/models/sourcecode_model.png', show_shapes=True, show_layer_names=False)"
   ]
  },
  {
   "cell_type": "markdown",
   "metadata": {
    "colab_type": "text",
    "id": "r3b1j7J579_D"
   },
   "source": [
    "# Train Model"
   ]
  },
  {
   "cell_type": "code",
   "execution_count": 0,
   "metadata": {
    "colab": {},
    "colab_type": "code",
    "id": "YcbaIArM79bn"
   },
   "outputs": [],
   "source": [
    "tensorboard = TensorBoard(log_dir=TENSORBOARD_LOGS_PATH, \n",
    "                          histogram_freq=0,\n",
    "                          write_graph=True,\n",
    "                          write_images=False)"
   ]
  },
  {
   "cell_type": "code",
   "execution_count": 0,
   "metadata": {
    "colab": {},
    "colab_type": "code",
    "id": "Zg5E_TZr9XX6"
   },
   "outputs": [],
   "source": [
    "early_stop = EarlyStopping(monitor='val_loss', \n",
    "                           min_delta=0.001, \n",
    "                           patience=5, # Num of epochs with no improvement after which training stops\n",
    "                           verbose=1)"
   ]
  },
  {
   "cell_type": "code",
   "execution_count": 0,
   "metadata": {
    "colab": {},
    "colab_type": "code",
    "id": "9YVWSHAmtDux"
   },
   "outputs": [],
   "source": [
    "checkpoint = ModelCheckpoint(MAIN_FOLDER + CHECK_POINT_PATH, monitor='val_acc', verbose=1, save_best_only=True, mode='max')"
   ]
  },
  {
   "cell_type": "code",
   "execution_count": 0,
   "metadata": {
    "colab": {},
    "colab_type": "code",
    "id": "gvHkDzohLxu1"
   },
   "outputs": [],
   "source": [
    "reduce_lr = ReduceLROnPlateau(monitor='val_loss', factor=0.2,\n",
    "                              patience=5, min_lr=0.001)"
   ]
  },
  {
   "cell_type": "code",
   "execution_count": 0,
   "metadata": {
    "colab": {},
    "colab_type": "code",
    "id": "Du_RmlXQaf3m"
   },
   "outputs": [],
   "source": [
    "class TimeHistory(Callback):\n",
    "    def on_train_begin(self, logs={}):\n",
    "        self.times = []\n",
    "\n",
    "    def on_epoch_begin(self, epoch, logs={}):\n",
    "        self.epoch_time_start = time.time()\n",
    "\n",
    "    def on_epoch_end(self, epoch, logs={}):\n",
    "        self.times.append(time.time() - self.epoch_time_start)\n",
    "\n",
    "time_callback = TimeHistory()"
   ]
  },
  {
   "cell_type": "code",
   "execution_count": 0,
   "metadata": {
    "colab": {
     "base_uri": "https://localhost:8080/",
     "height": 3580
    },
    "colab_type": "code",
    "id": "lp3JfElZ8CZD",
    "outputId": "9f27a25f-ba50-430c-a29e-0dbd262d7a7c"
   },
   "outputs": [
    {
     "name": "stdout",
     "output_type": "stream",
     "text": [
      "WARNING:tensorflow:From /usr/local/lib/python3.6/dist-packages/tensorflow/python/ops/math_ops.py:3066: to_int32 (from tensorflow.python.ops.math_ops) is deprecated and will be removed in a future version.\n",
      "Instructions for updating:\n",
      "Use tf.cast instead.\n",
      "Train on 6480 samples, validate on 1620 samples\n",
      "Epoch 1/50\n",
      "6480/6480 [==============================] - 5s 695us/step - loss: 0.7419 - acc: 0.6184 - val_loss: 1.2639 - val_acc: 0.5426\n",
      "\n",
      "Epoch 00001: val_acc improved from -inf to 0.54259, saving model to /content/drive/colab/CNN/2019-04-20T01:41:10.424894/weights.best.hdf5\n",
      "Epoch 2/50\n",
      "6480/6480 [==============================] - 1s 187us/step - loss: 0.4109 - acc: 0.8000 - val_loss: 0.3416 - val_acc: 0.8414\n",
      "\n",
      "Epoch 00002: val_acc improved from 0.54259 to 0.84136, saving model to /content/drive/colab/CNN/2019-04-20T01:41:10.424894/weights.best.hdf5\n",
      "Epoch 3/50\n",
      "6480/6480 [==============================] - 1s 174us/step - loss: 0.2694 - acc: 0.8818 - val_loss: 0.2844 - val_acc: 0.8926\n",
      "\n",
      "Epoch 00003: val_acc improved from 0.84136 to 0.89259, saving model to /content/drive/colab/CNN/2019-04-20T01:41:10.424894/weights.best.hdf5\n",
      "Epoch 4/50\n",
      "6480/6480 [==============================] - 1s 172us/step - loss: 0.1820 - acc: 0.9256 - val_loss: 0.3097 - val_acc: 0.8457\n",
      "\n",
      "Epoch 00004: val_acc did not improve from 0.89259\n",
      "Epoch 5/50\n",
      "6480/6480 [==============================] - 1s 171us/step - loss: 0.1373 - acc: 0.9483 - val_loss: 0.2545 - val_acc: 0.8772\n",
      "\n",
      "Epoch 00005: val_acc did not improve from 0.89259\n",
      "Epoch 6/50\n",
      "6480/6480 [==============================] - 1s 170us/step - loss: 0.1114 - acc: 0.9582 - val_loss: 0.4731 - val_acc: 0.8858\n",
      "\n",
      "Epoch 00006: val_acc did not improve from 0.89259\n",
      "Epoch 7/50\n",
      "6480/6480 [==============================] - 1s 172us/step - loss: 0.0786 - acc: 0.9731 - val_loss: 0.5433 - val_acc: 0.8685\n",
      "\n",
      "Epoch 00007: val_acc did not improve from 0.89259\n",
      "Epoch 8/50\n",
      "6480/6480 [==============================] - 1s 173us/step - loss: 0.0640 - acc: 0.9789 - val_loss: 0.2746 - val_acc: 0.9160\n",
      "\n",
      "Epoch 00008: val_acc improved from 0.89259 to 0.91605, saving model to /content/drive/colab/CNN/2019-04-20T01:41:10.424894/weights.best.hdf5\n",
      "Epoch 9/50\n",
      "6480/6480 [==============================] - 1s 171us/step - loss: 0.0581 - acc: 0.9790 - val_loss: 0.2911 - val_acc: 0.9179\n",
      "\n",
      "Epoch 00009: val_acc improved from 0.91605 to 0.91790, saving model to /content/drive/colab/CNN/2019-04-20T01:41:10.424894/weights.best.hdf5\n",
      "Epoch 10/50\n",
      "6480/6480 [==============================] - 1s 171us/step - loss: 0.0497 - acc: 0.9833 - val_loss: 0.8573 - val_acc: 0.8543\n",
      "\n",
      "Epoch 00010: val_acc did not improve from 0.91790\n",
      "Epoch 11/50\n",
      "6480/6480 [==============================] - 1s 175us/step - loss: 0.0588 - acc: 0.9781 - val_loss: 0.1238 - val_acc: 0.9543\n",
      "\n",
      "Epoch 00011: val_acc improved from 0.91790 to 0.95432, saving model to /content/drive/colab/CNN/2019-04-20T01:41:10.424894/weights.best.hdf5\n",
      "Epoch 12/50\n",
      "6480/6480 [==============================] - 1s 171us/step - loss: 0.0401 - acc: 0.9870 - val_loss: 0.1807 - val_acc: 0.9519\n",
      "\n",
      "Epoch 00012: val_acc did not improve from 0.95432\n",
      "Epoch 13/50\n",
      "6480/6480 [==============================] - 1s 173us/step - loss: 0.0317 - acc: 0.9898 - val_loss: 0.2580 - val_acc: 0.9395\n",
      "\n",
      "Epoch 00013: val_acc did not improve from 0.95432\n",
      "Epoch 14/50\n",
      "6480/6480 [==============================] - 1s 174us/step - loss: 0.0274 - acc: 0.9912 - val_loss: 0.0875 - val_acc: 0.9765\n",
      "\n",
      "Epoch 00014: val_acc improved from 0.95432 to 0.97654, saving model to /content/drive/colab/CNN/2019-04-20T01:41:10.424894/weights.best.hdf5\n",
      "Epoch 15/50\n",
      "6480/6480 [==============================] - 1s 173us/step - loss: 0.0280 - acc: 0.9904 - val_loss: 0.1447 - val_acc: 0.9586\n",
      "\n",
      "Epoch 00015: val_acc did not improve from 0.97654\n",
      "Epoch 16/50\n",
      "6480/6480 [==============================] - 1s 172us/step - loss: 0.0585 - acc: 0.9790 - val_loss: 1.4827 - val_acc: 0.7833\n",
      "\n",
      "Epoch 00016: val_acc did not improve from 0.97654\n",
      "Epoch 17/50\n",
      "6480/6480 [==============================] - 1s 173us/step - loss: 0.0353 - acc: 0.9877 - val_loss: 0.8443 - val_acc: 0.8605\n",
      "\n",
      "Epoch 00017: val_acc did not improve from 0.97654\n",
      "Epoch 18/50\n",
      "6480/6480 [==============================] - 1s 175us/step - loss: 0.0221 - acc: 0.9927 - val_loss: 0.2493 - val_acc: 0.9432\n",
      "\n",
      "Epoch 00018: val_acc did not improve from 0.97654\n",
      "Epoch 19/50\n",
      "6480/6480 [==============================] - 1s 177us/step - loss: 0.0218 - acc: 0.9929 - val_loss: 0.2031 - val_acc: 0.9469\n",
      "\n",
      "Epoch 00019: val_acc did not improve from 0.97654\n",
      "Epoch 20/50\n",
      "6480/6480 [==============================] - 1s 172us/step - loss: 0.0244 - acc: 0.9920 - val_loss: 0.7608 - val_acc: 0.8636\n",
      "\n",
      "Epoch 00020: val_acc did not improve from 0.97654\n",
      "Epoch 21/50\n",
      "6480/6480 [==============================] - 1s 173us/step - loss: 0.0228 - acc: 0.9924 - val_loss: 0.4021 - val_acc: 0.9210\n",
      "\n",
      "Epoch 00021: val_acc did not improve from 0.97654\n",
      "Epoch 22/50\n",
      "6480/6480 [==============================] - 1s 172us/step - loss: 0.0310 - acc: 0.9892 - val_loss: 0.1300 - val_acc: 0.9673\n",
      "\n",
      "Epoch 00022: val_acc did not improve from 0.97654\n",
      "Epoch 23/50\n",
      "6480/6480 [==============================] - 1s 171us/step - loss: 0.0238 - acc: 0.9932 - val_loss: 0.1196 - val_acc: 0.9698\n",
      "\n",
      "Epoch 00023: val_acc did not improve from 0.97654\n",
      "Epoch 24/50\n",
      "6480/6480 [==============================] - 1s 171us/step - loss: 0.0156 - acc: 0.9944 - val_loss: 0.2637 - val_acc: 0.9475\n",
      "\n",
      "Epoch 00024: val_acc did not improve from 0.97654\n",
      "Epoch 25/50\n",
      "6480/6480 [==============================] - 1s 174us/step - loss: 0.0133 - acc: 0.9961 - val_loss: 0.2679 - val_acc: 0.9444\n",
      "\n",
      "Epoch 00025: val_acc did not improve from 0.97654\n",
      "Epoch 26/50\n",
      "6480/6480 [==============================] - 1s 177us/step - loss: 0.0240 - acc: 0.9921 - val_loss: 0.2696 - val_acc: 0.9438\n",
      "\n",
      "Epoch 00026: val_acc did not improve from 0.97654\n",
      "Epoch 27/50\n",
      "6480/6480 [==============================] - 1s 179us/step - loss: 0.0140 - acc: 0.9957 - val_loss: 0.1241 - val_acc: 0.9667\n",
      "\n",
      "Epoch 00027: val_acc did not improve from 0.97654\n",
      "Epoch 28/50\n",
      "6480/6480 [==============================] - 1s 180us/step - loss: 0.0179 - acc: 0.9938 - val_loss: 0.3964 - val_acc: 0.9265\n",
      "\n",
      "Epoch 00028: val_acc did not improve from 0.97654\n",
      "Epoch 29/50\n",
      "6480/6480 [==============================] - 1s 179us/step - loss: 0.0185 - acc: 0.9940 - val_loss: 0.2177 - val_acc: 0.9562\n",
      "\n",
      "Epoch 00029: val_acc did not improve from 0.97654\n",
      "Epoch 30/50\n",
      "6480/6480 [==============================] - 1s 179us/step - loss: 0.0243 - acc: 0.9903 - val_loss: 0.3168 - val_acc: 0.9426\n",
      "\n",
      "Epoch 00030: val_acc did not improve from 0.97654\n",
      "Epoch 31/50\n",
      "6480/6480 [==============================] - 1s 177us/step - loss: 0.0166 - acc: 0.9938 - val_loss: 0.4419 - val_acc: 0.9247\n",
      "\n",
      "Epoch 00031: val_acc did not improve from 0.97654\n",
      "Epoch 32/50\n",
      "6480/6480 [==============================] - 1s 172us/step - loss: 0.0176 - acc: 0.9929 - val_loss: 0.7781 - val_acc: 0.8901\n",
      "\n",
      "Epoch 00032: val_acc did not improve from 0.97654\n",
      "Epoch 33/50\n",
      "6480/6480 [==============================] - 1s 171us/step - loss: 0.0150 - acc: 0.9948 - val_loss: 0.2559 - val_acc: 0.9543\n",
      "\n",
      "Epoch 00033: val_acc did not improve from 0.97654\n",
      "Epoch 34/50\n",
      "6480/6480 [==============================] - 1s 174us/step - loss: 0.0107 - acc: 0.9958 - val_loss: 0.2519 - val_acc: 0.9500\n",
      "\n",
      "Epoch 00034: val_acc did not improve from 0.97654\n",
      "Epoch 35/50\n",
      "6480/6480 [==============================] - 1s 170us/step - loss: 0.0162 - acc: 0.9944 - val_loss: 0.8966 - val_acc: 0.8809\n",
      "\n",
      "Epoch 00035: val_acc did not improve from 0.97654\n",
      "Epoch 36/50\n",
      "6480/6480 [==============================] - 1s 171us/step - loss: 0.0107 - acc: 0.9958 - val_loss: 0.2414 - val_acc: 0.9531\n",
      "\n",
      "Epoch 00036: val_acc did not improve from 0.97654\n",
      "Epoch 37/50\n",
      "6480/6480 [==============================] - 1s 172us/step - loss: 0.0107 - acc: 0.9968 - val_loss: 0.1307 - val_acc: 0.9704\n",
      "\n",
      "Epoch 00037: val_acc did not improve from 0.97654\n",
      "Epoch 38/50\n",
      "6480/6480 [==============================] - 1s 174us/step - loss: 0.0115 - acc: 0.9946 - val_loss: 0.1232 - val_acc: 0.9704\n",
      "\n",
      "Epoch 00038: val_acc did not improve from 0.97654\n",
      "Epoch 39/50\n",
      "6480/6480 [==============================] - 1s 173us/step - loss: 0.0101 - acc: 0.9963 - val_loss: 0.2110 - val_acc: 0.9574\n",
      "\n",
      "Epoch 00039: val_acc did not improve from 0.97654\n",
      "Epoch 40/50\n",
      "6480/6480 [==============================] - 1s 174us/step - loss: 0.0162 - acc: 0.9943 - val_loss: 0.2581 - val_acc: 0.9512\n",
      "\n",
      "Epoch 00040: val_acc did not improve from 0.97654\n",
      "Epoch 41/50\n",
      "6480/6480 [==============================] - 1s 173us/step - loss: 0.0110 - acc: 0.9963 - val_loss: 0.7439 - val_acc: 0.8988\n",
      "\n",
      "Epoch 00041: val_acc did not improve from 0.97654\n",
      "Epoch 42/50\n",
      "6480/6480 [==============================] - 1s 171us/step - loss: 0.0105 - acc: 0.9963 - val_loss: 0.4396 - val_acc: 0.9370\n",
      "\n",
      "Epoch 00042: val_acc did not improve from 0.97654\n",
      "Epoch 43/50\n",
      "6480/6480 [==============================] - 1s 172us/step - loss: 0.0113 - acc: 0.9965 - val_loss: 0.1607 - val_acc: 0.9673\n",
      "\n",
      "Epoch 00043: val_acc did not improve from 0.97654\n",
      "Epoch 44/50\n",
      "6480/6480 [==============================] - 1s 171us/step - loss: 0.0082 - acc: 0.9972 - val_loss: 0.3579 - val_acc: 0.9481\n",
      "\n",
      "Epoch 00044: val_acc did not improve from 0.97654\n",
      "Epoch 45/50\n",
      "6480/6480 [==============================] - 1s 174us/step - loss: 0.0091 - acc: 0.9965 - val_loss: 0.1230 - val_acc: 0.9685\n",
      "\n",
      "Epoch 00045: val_acc did not improve from 0.97654\n",
      "Epoch 46/50\n",
      "6480/6480 [==============================] - 1s 176us/step - loss: 0.0210 - acc: 0.9926 - val_loss: 0.3274 - val_acc: 0.9488\n",
      "\n",
      "Epoch 00046: val_acc did not improve from 0.97654\n",
      "Epoch 47/50\n",
      "6480/6480 [==============================] - 1s 172us/step - loss: 0.0190 - acc: 0.9927 - val_loss: 0.4228 - val_acc: 0.9321\n",
      "\n",
      "Epoch 00047: val_acc did not improve from 0.97654\n",
      "Epoch 48/50\n",
      "6480/6480 [==============================] - 1s 176us/step - loss: 0.0158 - acc: 0.9946 - val_loss: 0.8986 - val_acc: 0.8889\n",
      "\n",
      "Epoch 00048: val_acc did not improve from 0.97654\n",
      "Epoch 49/50\n",
      "6480/6480 [==============================] - 1s 175us/step - loss: 0.0163 - acc: 0.9951 - val_loss: 0.2292 - val_acc: 0.9611\n",
      "\n",
      "Epoch 00049: val_acc did not improve from 0.97654\n",
      "Epoch 50/50\n",
      "6480/6480 [==============================] - 1s 173us/step - loss: 0.0119 - acc: 0.9958 - val_loss: 0.1702 - val_acc: 0.9667\n",
      "\n",
      "Epoch 00050: val_acc did not improve from 0.97654\n"
     ]
    }
   ],
   "source": [
    "sourcecode_model_train = sourcecode_model.fit([train_left, train_right], train_labels, validation_split=0.2, batch_size=batch_size, epochs=epochs, verbose=1, callbacks=[time_callback, checkpoint])"
   ]
  },
  {
   "cell_type": "code",
   "execution_count": 0,
   "metadata": {
    "colab": {},
    "colab_type": "code",
    "id": "7hK3jJX4tzxy"
   },
   "outputs": [],
   "source": [
    "# Load best weight saved by checkpoint\n",
    "sourcecode_model.load_weights(MAIN_FOLDER + CHECK_POINT_PATH)"
   ]
  },
  {
   "cell_type": "markdown",
   "metadata": {
    "colab_type": "text",
    "id": "1U323lYYayTj"
   },
   "source": [
    "### Training times"
   ]
  },
  {
   "cell_type": "code",
   "execution_count": 0,
   "metadata": {
    "colab": {
     "base_uri": "https://localhost:8080/",
     "height": 72
    },
    "colab_type": "code",
    "id": "_NE4mGl7avbw",
    "outputId": "22cb9f51-f8d8-4fbd-cdb7-7645d806478e"
   },
   "outputs": [
    {
     "name": "stdout",
     "output_type": "stream",
     "text": [
      "[4.50219464302063, 1.2148778438568115, 1.1269516944885254, 1.116234302520752, 1.1093437671661377, 1.1033425331115723, 1.1156463623046875, 1.12162184715271, 1.1076953411102295, 1.1121554374694824, 1.1327531337738037, 1.107140302658081, 1.1249148845672607, 1.125528335571289, 1.119511604309082, 1.1142299175262451, 1.1215095520019531, 1.1324009895324707, 1.1463489532470703, 1.1134650707244873, 1.1220571994781494, 1.1135973930358887, 1.1073062419891357, 1.1062655448913574, 1.1284723281860352, 1.1461029052734375, 1.1643595695495605, 1.170231580734253, 1.1630198955535889, 1.1580326557159424, 1.147737741470337, 1.1161255836486816, 1.110572338104248, 1.1272897720336914, 1.1025569438934326, 1.1093111038208008, 1.114387035369873, 1.127065896987915, 1.1207592487335205, 1.1271617412567139, 1.121561050415039, 1.1118597984313965, 1.1149306297302246, 1.110551118850708, 1.1280009746551514, 1.1428816318511963, 1.1147141456604004, 1.1438994407653809, 1.1374671459197998, 1.1241600513458252]\n",
      "Average time per epoch:  1.1940061044692993\n"
     ]
    }
   ],
   "source": [
    "print(time_callback.times)\n",
    "print(\"Average time per epoch: \",np.mean(time_callback.times))\n",
    "main_information.append(\"Average time per epoch: {}\".format(np.mean(time_callback.times)))"
   ]
  },
  {
   "cell_type": "markdown",
   "metadata": {
    "colab_type": "text",
    "id": "MHj5WbFSa5S8"
   },
   "source": [
    "## History Plots"
   ]
  },
  {
   "cell_type": "code",
   "execution_count": 0,
   "metadata": {
    "colab": {
     "base_uri": "https://localhost:8080/",
     "height": 295
    },
    "colab_type": "code",
    "id": "WZvpNW5cCSav",
    "outputId": "e332cd94-91d8-4163-f0f9-b9029d2e036f"
   },
   "outputs": [
    {
     "data": {
      "image/png": "[encoded data removed]",
      "text/plain": [
       "<Figure size 432x288 with 1 Axes>"
      ]
     },
     "metadata": {
      "tags": []
     },
     "output_type": "display_data"
    }
   ],
   "source": [
    "# summarize history for accuracy\n",
    "plt.plot(sourcecode_model_train.history['acc'])\n",
    "plt.plot(sourcecode_model_train.history['val_acc'])\n",
    "plt.title('Training and Validation Accuracy')\n",
    "plt.ylabel('Accuracy')\n",
    "plt.xlabel('Number of Epochs')\n",
    "plt.legend(['Training accuracy', 'Validation accuracy'], loc='lower right')\n",
    "# plt.legend(['Training accuracy', 'Validation accuracy'], loc='lower right',bbox_to_anchor=(1, 0.1))\n",
    "path = MAIN_FOLDER + 'Training_accuracy_{}.png'.format(datetime.datetime.now().isoformat())\n",
    "# path = '/content/drive/colab/imgs/figures/Training_accuracy_{}.png'.format(datetime.datetime.now().isoformat())\n",
    "plt.savefig(path)\n",
    "plt.show()"
   ]
  },
  {
   "cell_type": "code",
   "execution_count": 0,
   "metadata": {
    "colab": {
     "base_uri": "https://localhost:8080/",
     "height": 295
    },
    "colab_type": "code",
    "id": "LOGnTdJsFfvf",
    "outputId": "08142ca3-859a-4287-ef59-265b8cf87ebe"
   },
   "outputs": [
    {
     "data": {
      "image/png": "[encoded data removed]",
      "text/plain": [
       "<Figure size 432x288 with 1 Axes>"
      ]
     },
     "metadata": {
      "tags": []
     },
     "output_type": "display_data"
    }
   ],
   "source": [
    "# summarize history for loss\n",
    "plt.plot(sourcecode_model_train.history['loss'])\n",
    "plt.plot(sourcecode_model_train.history['val_loss'])\n",
    "plt.title('Training and Validation Loss')\n",
    "plt.ylabel('Loss')\n",
    "plt.xlabel('Number of Epochs')\n",
    "plt.legend(['Training loss', 'Validation loss'], loc='upper right')\n",
    "# plt.legend(['Training loss', 'Validation loss'], loc='upper right',bbox_to_anchor=(1, 0.9))\n",
    "path = MAIN_FOLDER + 'Training and validation loss_{}.png'.format(datetime.datetime.now().isoformat())\n",
    "# path = '/content/drive/colab/imgs/figures/Training and validation loss_{}.png'.format(datetime.datetime.now().isoformat())\n",
    "plt.savefig(path)\n",
    "plt.show()"
   ]
  },
  {
   "cell_type": "code",
   "execution_count": 0,
   "metadata": {
    "colab": {
     "base_uri": "https://localhost:8080/",
     "height": 139
    },
    "colab_type": "code",
    "id": "Yz3qoxilGijp",
    "outputId": "d19ed978-a17e-48f9-f0ab-eafeb9434f0c"
   },
   "outputs": [
    {
     "data": {
      "text/plain": [
       "array([[0.9723662],\n",
       "       [0.7337851],\n",
       "       [0.       ],\n",
       "       ...,\n",
       "       [0.       ],\n",
       "       [0.9993049],\n",
       "       [0.9007427]], dtype=float32)"
      ]
     },
     "execution_count": 44,
     "metadata": {
      "tags": []
     },
     "output_type": "execute_result"
    }
   ],
   "source": [
    "predictions = sourcecode_model.predict([test_left, test_right], batch_size=batch_size)\n",
    "predictions"
   ]
  },
  {
   "cell_type": "code",
   "execution_count": 0,
   "metadata": {
    "colab": {
     "base_uri": "https://localhost:8080/",
     "height": 34
    },
    "colab_type": "code",
    "id": "1NCNS8yjyDCC",
    "outputId": "3ff2bb59-62e3-4a96-c0da-d0bbc73c223d"
   },
   "outputs": [
    {
     "data": {
      "text/plain": [
       "array([1, 1, 0, ..., 0, 1, 1])"
      ]
     },
     "execution_count": 45,
     "metadata": {
      "tags": []
     },
     "output_type": "execute_result"
    }
   ],
   "source": [
    "rounded = [round(x[0]) for x in predictions]\n",
    "y_pred = np.array(rounded,dtype='int64')\n",
    "y_pred"
   ]
  },
  {
   "cell_type": "code",
   "execution_count": 0,
   "metadata": {
    "colab": {
     "base_uri": "https://localhost:8080/",
     "height": 34
    },
    "colab_type": "code",
    "id": "6VcKBXc0dP6u",
    "outputId": "4b4ee5b4-2ffa-47a5-c8ff-8a3c5f05f096"
   },
   "outputs": [
    {
     "data": {
      "text/plain": [
       "array([1, 1, 0, ..., 0, 1, 1])"
      ]
     },
     "execution_count": 46,
     "metadata": {
      "tags": []
     },
     "output_type": "execute_result"
    }
   ],
   "source": [
    "test_labels = np.array(test_labels, dtype='int64')\n",
    "test_labels"
   ]
  },
  {
   "cell_type": "code",
   "execution_count": 0,
   "metadata": {
    "colab": {},
    "colab_type": "code",
    "id": "birc6TMHNkzm"
   },
   "outputs": [],
   "source": [
    "# rounded_predictions = np.array(np.argmax(predictions,axis=1))\n",
    "# rounded_predictions = to_categorical(rounded_predictions, 2)\n",
    "# # rounded_predictions = to_categorical(rounded_predictions, 2, dtype='int32')\n",
    "# rounded_predictions"
   ]
  },
  {
   "cell_type": "code",
   "execution_count": 0,
   "metadata": {
    "colab": {},
    "colab_type": "code",
    "id": "BpAte32gPUxJ"
   },
   "outputs": [],
   "source": [
    "# print(test_labels)\n",
    "# print(len(test_labels))\n",
    "# print(test_labels[:,0])\n",
    "# print(rounded_predictions[:,0])\n",
    "\n",
    "# incorrects = np.nonzero(rounded_predictions[:,0] != test_labels[:,0])\n",
    "# print(incorrects)\n",
    "# print(len(incorrects[0]))\n",
    "# main_information.append(\"Incorrectly predicted: {} from total {}\".format(len(incorrects[0]), len(test_labels)))"
   ]
  },
  {
   "cell_type": "markdown",
   "metadata": {
    "colab_type": "text",
    "id": "3x_QewkozTjn"
   },
   "source": [
    "### Find wrongly predicted results"
   ]
  },
  {
   "cell_type": "code",
   "execution_count": 0,
   "metadata": {
    "colab": {},
    "colab_type": "code",
    "id": "C0-oPlQJzzCl"
   },
   "outputs": [],
   "source": [
    "# for i in incorrects:\n",
    "#   print(test_left_original[i])\n",
    "#   print(test_right_original[i])\n",
    "#   print(test_labels[i])\n",
    "#   print(rounded_predictions[7])\n",
    "#   print(\"\\n\\n\")\n",
    "\n",
    "# wrong = incorrects[0][0]\n",
    "# print(test_left_original[wrong])\n",
    "# print(test_right_original[wrong])\n",
    "# print(\"Test Labels\", test_labels[wrong][1])\n",
    "# print(\"Predected\", rounded_predictions[wrong][1])\n",
    "# print(\"\\n\\n\")"
   ]
  },
  {
   "cell_type": "markdown",
   "metadata": {
    "colab_type": "text",
    "id": "w5YPFIwl5c91"
   },
   "source": [
    "# Display Metrics"
   ]
  },
  {
   "cell_type": "markdown",
   "metadata": {
    "colab_type": "text",
    "id": "wMV7MqsnaAQc"
   },
   "source": [
    "## Confusion Matrix"
   ]
  },
  {
   "cell_type": "code",
   "execution_count": 0,
   "metadata": {
    "colab": {},
    "colab_type": "code",
    "id": "vwF4QHMHKQRe"
   },
   "outputs": [],
   "source": [
    "# Confusion Matrix\n",
    "def show_confusion_matrix(validations, predictions):\n",
    "    matrix = metrics.confusion_matrix(validations, predictions)\n",
    "    matrix = [[1371, 33], [36, 1359]]\n",
    "    plt.figure(figsize=(6, 4))\n",
    "    sns.heatmap(matrix,\n",
    "                cmap=\"coolwarm\",\n",
    "                linecolor='white',\n",
    "                linewidths=1,\n",
    "                xticklabels=LABELS,\n",
    "                yticklabels=LABELS,\n",
    "                annot=True,\n",
    "                fmt=\"d\")\n",
    "    plt.title(\"Confusion Matrix\")\n",
    "    plt.ylabel(\"True Label\")\n",
    "    plt.xlabel(\"Predicted Label\")\n",
    "#     path = MAIN_FOLDER + 'confusion_matrix_{}.svg'.format(datetime.datetime.now().isoformat())\n",
    "    path = '/content/drive/colab/confusion_matrix_{}.svg'.format(datetime.datetime.now().isoformat())\n",
    "#     path = '/content/drive/colab/imgs/figures/confusion_matrix_{}.svg'.format(datetime.datetime.now().isoformat())\n",
    "    plt.savefig(path)\n",
    "    plt.show()"
   ]
  },
  {
   "cell_type": "code",
   "execution_count": 0,
   "metadata": {
    "colab": {},
    "colab_type": "code",
    "id": "Uihvyyn-KuYg"
   },
   "outputs": [],
   "source": [
    "# LABELS = [\"Not Similar\", \"Similar\"]\n",
    "# show_confusion_matrix(test_labels[:,0], rounded_predictions[:,0])"
   ]
  },
  {
   "cell_type": "code",
   "execution_count": 0,
   "metadata": {
    "colab": {
     "base_uri": "https://localhost:8080/",
     "height": 295
    },
    "colab_type": "code",
    "id": "N0qet1n3yJbl",
    "outputId": "e2b0dde0-5d56-4635-b945-bf40614609a2"
   },
   "outputs": [
    {
     "data": {
      "image/png": "[encoded data removed]",
      "text/plain": [
       "<Figure size 432x288 with 2 Axes>"
      ]
     },
     "metadata": {
      "tags": []
     },
     "output_type": "display_data"
    }
   ],
   "source": [
    "LABELS = [\"Not Similar\", \"Similar\"]\n",
    "# show_confusion_matrix(test_labels, y_pred)\n",
    "show_confusion_matrix([0,0], [0,1])"
   ]
  },
  {
   "cell_type": "markdown",
   "metadata": {
    "colab_type": "text",
    "id": "HaSRxBb7Z5RF"
   },
   "source": [
    "## Classification report"
   ]
  },
  {
   "cell_type": "code",
   "execution_count": 0,
   "metadata": {
    "colab": {
     "base_uri": "https://localhost:8080/",
     "height": 54
    },
    "colab_type": "code",
    "id": "rXmKvhUkJ0wl",
    "outputId": "657bfe08-3f1a-48cd-c85e-d89a65443339"
   },
   "outputs": [
    {
     "name": "stdout",
     "output_type": "stream",
     "text": [
      "{'Not Similar': {'precision': 0.980544747081712, 'recall': 0.96, 'f1-score': 0.9701636188642925, 'support': 1050}, 'Similar': {'precision': 0.9579158316633266, 'recall': 0.9795081967213115, 'f1-score': 0.9685916919959473, 'support': 976}, 'micro avg': {'precision': 0.9693978282329714, 'recall': 0.9693978282329714, 'f1-score': 0.9693978282329714, 'support': 2026}, 'macro avg': {'precision': 0.9692302893725193, 'recall': 0.9697540983606557, 'f1-score': 0.9693776554301199, 'support': 2026}, 'weighted avg': {'precision': 0.9696435518949676, 'recall': 0.9693978282329714, 'f1-score': 0.9694063628803316, 'support': 2026}}\n"
     ]
    }
   ],
   "source": [
    "# Report with micro, macro and weighted avg\n",
    "report = classification_report(test_labels, y_pred, output_dict=True, target_names=LABELS)\n",
    "df = pd.DataFrame(report).transpose()\n",
    "\n",
    "path = MAIN_FOLDER + 'classification_report_{}.csv'.format(datetime.datetime.now().isoformat())\n",
    "# path = '/content/drive/colab/classification_reports/classification_report_{}.csv'.format(datetime.datetime.now().isoformat())\n",
    "df.to_csv(path)\n",
    "print(report)"
   ]
  },
  {
   "cell_type": "code",
   "execution_count": 0,
   "metadata": {
    "colab": {
     "base_uri": "https://localhost:8080/",
     "height": 86
    },
    "colab_type": "code",
    "id": "OsiC4C7RYDJ2",
    "outputId": "1aa3ff0d-5bf3-4283-85e9-478cdb20a2ad"
   },
   "outputs": [
    {
     "name": "stdout",
     "output_type": "stream",
     "text": [
      "             precision  recall  f1-score  support\n",
      "Not Similar       0.98    0.96      0.97   1050.0\n",
      "Similar           0.96    0.98      0.97    976.0\n",
      "avg/total         0.97    0.97      0.97   2026.0\n"
     ]
    }
   ],
   "source": [
    "# This one looks better, only average\n",
    "from sklearn.metrics import precision_recall_fscore_support\n",
    "\n",
    "clf_rep = precision_recall_fscore_support(test_labels, y_pred)\n",
    "out_dict = {\n",
    "             \"precision\" :clf_rep[0].round(2)\n",
    "            ,\"recall\" : clf_rep[1].round(2)\n",
    "            ,\"f1-score\" : clf_rep[2].round(2)\n",
    "            ,\"support\" : clf_rep[3]\n",
    "            }\n",
    "out_df = pd.DataFrame(out_dict, index = LABELS)\n",
    "avg_tot = (out_df.apply(lambda x: round(x.mean(), 2) if x.name!=\"support\" else  round(x.sum(), 2)).to_frame().T)\n",
    "avg_tot.index = [\"avg/total\"]\n",
    "out_df = out_df.append(avg_tot)\n",
    "\n",
    "path = MAIN_FOLDER + 'classification_report_{}.csv'.format(datetime.datetime.now().isoformat())\n",
    "# path = '/content/drive/colab/classification_reports/classification_report_{}.csv'.format(datetime.datetime.now().isoformat())\n",
    "out_df.to_csv(path)\n",
    "print(out_df)"
   ]
  },
  {
   "cell_type": "markdown",
   "metadata": {
    "colab_type": "text",
    "id": "p5Sh-nOqaGEe"
   },
   "source": [
    "## Precision vs Recall Curve"
   ]
  },
  {
   "cell_type": "code",
   "execution_count": 0,
   "metadata": {
    "colab": {
     "base_uri": "https://localhost:8080/",
     "height": 34
    },
    "colab_type": "code",
    "id": "pGXQqOezRIV4",
    "outputId": "5dfde3f7-5231-4101-b07a-074f611d434b"
   },
   "outputs": [
    {
     "name": "stdout",
     "output_type": "stream",
     "text": [
      "Accuracy score:  0.9693978282329714\n"
     ]
    }
   ],
   "source": [
    "from sklearn.metrics import accuracy_score\n",
    "print(\"Accuracy score: \", accuracy_score(y_pred, test_labels))\n",
    "main_information.append(\"Accuracy score: {}\".format(accuracy_score(y_pred, test_labels)))"
   ]
  },
  {
   "cell_type": "code",
   "execution_count": 0,
   "metadata": {
    "colab": {
     "base_uri": "https://localhost:8080/",
     "height": 295
    },
    "colab_type": "code",
    "id": "G36mh-PsWBhn",
    "outputId": "f05a8a4a-323f-4749-bb4c-6c134ab94f41"
   },
   "outputs": [
    {
     "data": {
      "image/png": "[encoded data removed]",
      "text/plain": [
       "<Figure size 432x288 with 1 Axes>"
      ]
     },
     "metadata": {
      "tags": []
     },
     "output_type": "display_data"
    }
   ],
   "source": [
    "from sklearn.metrics import precision_recall_curve, average_precision_score\n",
    "from sklearn.utils.fixes import signature\n",
    "\n",
    "precision, recall, threshold = precision_recall_curve(test_labels, y_pred)\n",
    "\n",
    "average_precision = average_precision_score(test_labels, y_pred)\n",
    "\n",
    "plt.plot(recall, precision, marker='.', label='Precision-Recall Curve')\n",
    "\n",
    "#### Should fill rectangle under the curve ####\n",
    "# In matplotlib < 1.5, plt.fill_between does not have a 'step' argument\n",
    "# step_kwargs = ({'step': 'post'}\n",
    "#                if 'step' in signature(plt.fill_between).parameters\n",
    "#                else {})\n",
    "# plt.step(recall, precision, color='b', alpha=0.2,\n",
    "#          where='post')\n",
    "# plt.fill_between(recall, precision, alpha=0.2, color='b', **step_kwargs)\n",
    "###############################################\n",
    "\n",
    "plt.ylim([0.0, 1.05])\n",
    "plt.xlim([0.0, 1.05])\n",
    "plt.xlabel('Recall')\n",
    "plt.ylabel('Precision')\n",
    "plt.title('2-Class Precision-Recall Curve: AP={0:0.4f}'.format(average_precision))\n",
    "plt.legend(loc=\"lower right\")\n",
    "\n",
    "path = MAIN_FOLDER + 'precision_recall_curve_{}.svg'.format(datetime.datetime.now().isoformat())\n",
    "# path = '/content/drive/colab/imgs/figures/precision_recall_curve_{}.png'.format(datetime.datetime.now().isoformat())\n",
    "plt.savefig(path)\n",
    "plt.show()"
   ]
  },
  {
   "cell_type": "code",
   "execution_count": 0,
   "metadata": {
    "colab": {},
    "colab_type": "code",
    "id": "15f3r918wzgF"
   },
   "outputs": [],
   "source": [
    "from sklearn.metrics import roc_curve, auc\n",
    "\n",
    "# Plot an ROC. pred - the predictions, y - the expected output.\n",
    "def plot_roc(pred,y):\n",
    "    fpr, tpr, _ = roc_curve(y, pred)\n",
    "    roc_auc = auc(fpr, tpr)\n",
    "\n",
    "    plt.figure()\n",
    "    # AUC - area under the curve, larger usually better\n",
    "    plt.plot(fpr, tpr, label='ROC curve (AUC = %0.2f)' % roc_auc)\n",
    "    plt.plot([0, 1], [0, 1], 'k--', label='Chance')\n",
    "    plt.xlim([0.0, 1.0])\n",
    "    plt.ylim([0.0, 1.05])\n",
    "    plt.xlabel('False Positive Rate')\n",
    "    plt.ylabel('True Positive Rate')\n",
    "    plt.title('Receiver Operating Characteristic (ROC)')\n",
    "    plt.legend(loc=\"lower right\")\n",
    "    \n",
    "   \n",
    "    path =  MAIN_FOLDER + 'roc_curve_{}.svg'.format(datetime.datetime.now().isoformat())\n",
    "#     path = '/content/drive/colab/imgs/figures/roc_curve_{}.png'.format(datetime.datetime.now().isoformat())\n",
    "    plt.savefig(path)\n",
    "    plt.show()"
   ]
  },
  {
   "cell_type": "code",
   "execution_count": 0,
   "metadata": {
    "colab": {
     "base_uri": "https://localhost:8080/",
     "height": 295
    },
    "colab_type": "code",
    "id": "me22YfVDsjAi",
    "outputId": "721a4708-e3f3-49c7-c5a8-82a33ee6eaa3"
   },
   "outputs": [
    {
     "data": {
      "image/png": "[encoded data removed]",
      "text/plain": [
       "<Figure size 432x288 with 1 Axes>"
      ]
     },
     "metadata": {
      "tags": []
     },
     "output_type": "display_data"
    }
   ],
   "source": [
    "plot_roc( y_pred, test_labels )"
   ]
  },
  {
   "cell_type": "markdown",
   "metadata": {
    "colab_type": "text",
    "id": "_sgtIQhhhMWo"
   },
   "source": [
    "# Save infomation"
   ]
  },
  {
   "cell_type": "code",
   "execution_count": 0,
   "metadata": {
    "colab": {
     "base_uri": "https://localhost:8080/",
     "height": 34
    },
    "colab_type": "code",
    "id": "ciwMXwdIsoXB",
    "outputId": "fb3c3481-78b6-4eb4-b5ba-1669a1747472"
   },
   "outputs": [
    {
     "name": "stdout",
     "output_type": "stream",
     "text": [
      "Saved into /content/drive/colab/CNN/2019-04-20T01:41:10.424894/main_info.txt\n"
     ]
    }
   ],
   "source": [
    "save_information(main_information)"
   ]
  }
 ],
 "metadata": {
  "accelerator": "GPU",
  "colab": {
   "collapsed_sections": [
    "XWXpEeDD6GjB"
   ],
   "name": "Source code Similarity Neural Network Binary.ipynb",
   "provenance": [],
   "toc_visible": true,
   "version": "0.3.2"
  },
  "kernelspec": {
   "display_name": "Python 3",
   "language": "python",
   "name": "python3"
  },
  "language_info": {
   "codemirror_mode": {
    "name": "ipython",
    "version": 3
   },
   "file_extension": ".py",
   "mimetype": "text/x-python",
   "name": "python",
   "nbconvert_exporter": "python",
   "pygments_lexer": "ipython3",
   "version": "3.6.8"
  }
 },
 "nbformat": 4,
 "nbformat_minor": 1
}
